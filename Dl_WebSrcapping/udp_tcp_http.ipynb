{
 "cells": [
  {
   "cell_type": "code",
   "execution_count": 1,
   "id": "59c65bc7-cc73-4ab7-9feb-1ab7a7db603d",
   "metadata": {},
   "outputs": [
    {
     "name": "stdout",
     "output_type": "stream",
     "text": [
      "Writing server_http.py\n"
     ]
    }
   ],
   "source": [
    "%%writefile server_http.py\n",
    "from socket import *\n",
    "def createServer():\n",
    "    serversocket = socket()\n",
    "    serversocket.bind(('localhost',9000))\n",
    "    serversocket.listen()\n",
    "    while(1):\n",
    "        (clientsocket, address) = serversocket.accept()\n",
    "        \n",
    "        rd = clientsocket.recv(5000).decode()\n",
    "        print(rd)\n",
    "        \n",
    "        data = \"HTTP/1.1 200 OK\\r\\n\"\n",
    "        data += \"Content-Type: text/html; charset=utf-8\\r\\n\"\n",
    "        data += \"\\r\\n\"\n",
    "        data += \"<html><body>Hello World</body></html>\\r\\n\\r\\n\"\n",
    "        clientsocket.send(data.encode())\n",
    "    serversocket.close()\n",
    "print('Access http://localhost:9000')\n",
    "createServer()"
   ]
  },
  {
   "cell_type": "code",
   "execution_count": null,
   "id": "33ce5127-41e3-4584-8bd4-dada67cc41f7",
   "metadata": {},
   "outputs": [],
   "source": []
  }
 ],
 "metadata": {
  "kernelspec": {
   "display_name": "Python [conda env:base] *",
   "language": "python",
   "name": "conda-base-py"
  },
  "language_info": {
   "codemirror_mode": {
    "name": "ipython",
    "version": 3
   },
   "file_extension": ".py",
   "mimetype": "text/x-python",
   "name": "python",
   "nbconvert_exporter": "python",
   "pygments_lexer": "ipython3",
   "version": "3.12.7"
  }
 },
 "nbformat": 4,
 "nbformat_minor": 5
}
