{
 "cells": [
  {
   "cell_type": "code",
   "execution_count": 1,
   "id": "2321f8be-40f9-46f1-8e29-93629ece6562",
   "metadata": {},
   "outputs": [],
   "source": [
    "import pandas as pd \n",
    "import requests \n",
    "from bs4 import  BeautifulSoup\n",
    "import numpy as np "
   ]
  },
  {
   "cell_type": "code",
   "execution_count": 2,
   "id": "06196958-87fe-4ce6-8731-b24115b62484",
   "metadata": {},
   "outputs": [],
   "source": [
    "with open(\"IPL Auction.html\", \"r\", encoding = \"utf-8\") as f:\n",
    "    data = f.read()"
   ]
  },
  {
   "cell_type": "code",
   "execution_count": 3,
   "id": "9954454c-f800-487e-af36-3e7f83dbc4c3",
   "metadata": {},
   "outputs": [],
   "source": [
    "soup = BeautifulSoup(data)\n",
    "# soup "
   ]
  },
  {
   "cell_type": "code",
   "execution_count": null,
   "id": "0acfab55-8ddb-4ab0-8723-1a655b66d746",
   "metadata": {},
   "outputs": [],
   "source": []
  },
  {
   "cell_type": "code",
   "execution_count": null,
   "id": "3f5df611-d190-4bc3-a04c-0cea7b34879f",
   "metadata": {},
   "outputs": [],
   "source": []
  },
  {
   "cell_type": "code",
   "execution_count": 9,
   "id": "f99cd984-f0c6-4d6a-b7d9-ffec55970d51",
   "metadata": {},
   "outputs": [
    {
     "data": {
      "text/plain": [
       "['TEAM', 'FUNDS REMAINING', 'OVERSEAS PLAYERS', 'TOTAL PLAYERS']"
      ]
     },
     "execution_count": 9,
     "metadata": {},
     "output_type": "execute_result"
    }
   ],
   "source": [
    "columns = soup.findAll(\"tr\", {\"class\" : \"ih-pt-tbl\"} )[0].text.split(\"\\n\")\n",
    "header = []\n",
    "for i in columns:\n",
    "    if i != '':\n",
    "        header.append(i.strip())\n",
    "header"
   ]
  },
  {
   "cell_type": "code",
   "execution_count": 11,
   "id": "613eb7a3-2893-4c24-a777-84aa2b2cb56e",
   "metadata": {},
   "outputs": [
    {
     "data": {
      "text/plain": [
       "{'TEAM': [],\n",
       " 'FUNDS REMAINING': [],\n",
       " 'OVERSEAS PLAYERS': [],\n",
       " 'TOTAL PLAYERS': []}"
      ]
     },
     "execution_count": 11,
     "metadata": {},
     "output_type": "execute_result"
    }
   ],
   "source": [
    "data = {}\n",
    "for i in range(len(header)):\n",
    "    data[header[i]] = []\n",
    "data"
   ]
  },
  {
   "cell_type": "code",
   "execution_count": 13,
   "id": "dc9d730c-e721-471a-9527-0a54befae860",
   "metadata": {},
   "outputs": [],
   "source": [
    "tableData = soup.find(\"tbody\")\n",
    "# tableData\n",
    "for i in tableData.findAll(\"tr\"):\n",
    "    h = i.findAll(\"td\")\n",
    "    for j in range(len(h)):\n",
    "        if j == 0:\n",
    "            data[\"TEAM\"].append(h[j].text.strip())\n",
    "        if j == 1:\n",
    "            data[\"FUNDS REMAINING\"].append(h[j].text)\n",
    "        if j == 2:\n",
    "            data[\"OVERSEAS PLAYERS\"].append(h[j].text)\n",
    "        if j == 3:\n",
    "            data[\"TOTAL PLAYERS\"].append(h[j].text)\n",
    "    "
   ]
  },
  {
   "cell_type": "code",
   "execution_count": 15,
   "id": "cf070b1c-3900-491e-8ba9-6dbf4c9e2983",
   "metadata": {},
   "outputs": [
    {
     "data": {
      "text/html": [
       "<div>\n",
       "<style scoped>\n",
       "    .dataframe tbody tr th:only-of-type {\n",
       "        vertical-align: middle;\n",
       "    }\n",
       "\n",
       "    .dataframe tbody tr th {\n",
       "        vertical-align: top;\n",
       "    }\n",
       "\n",
       "    .dataframe thead th {\n",
       "        text-align: right;\n",
       "    }\n",
       "</style>\n",
       "<table border=\"1\" class=\"dataframe\">\n",
       "  <thead>\n",
       "    <tr style=\"text-align: right;\">\n",
       "      <th></th>\n",
       "      <th>TEAM</th>\n",
       "      <th>FUNDS REMAINING</th>\n",
       "      <th>OVERSEAS PLAYERS</th>\n",
       "      <th>TOTAL PLAYERS</th>\n",
       "    </tr>\n",
       "  </thead>\n",
       "  <tbody>\n",
       "    <tr>\n",
       "      <th>0</th>\n",
       "      <td>Chennai Super Kings</td>\n",
       "      <td>₹2,95,00,000</td>\n",
       "      <td>8</td>\n",
       "      <td>25</td>\n",
       "    </tr>\n",
       "    <tr>\n",
       "      <th>1</th>\n",
       "      <td>Delhi Capitals</td>\n",
       "      <td>₹10,00,000</td>\n",
       "      <td>7</td>\n",
       "      <td>24</td>\n",
       "    </tr>\n",
       "    <tr>\n",
       "      <th>2</th>\n",
       "      <td>Gujarat Titans</td>\n",
       "      <td>₹15,00,000</td>\n",
       "      <td>8</td>\n",
       "      <td>23</td>\n",
       "    </tr>\n",
       "    <tr>\n",
       "      <th>3</th>\n",
       "      <td>Kolkata Knight Riders</td>\n",
       "      <td>₹45,00,000</td>\n",
       "      <td>8</td>\n",
       "      <td>25</td>\n",
       "    </tr>\n",
       "    <tr>\n",
       "      <th>4</th>\n",
       "      <td>Lucknow Super Giants</td>\n",
       "      <td>₹0</td>\n",
       "      <td>7</td>\n",
       "      <td>21</td>\n",
       "    </tr>\n",
       "    <tr>\n",
       "      <th>5</th>\n",
       "      <td>Mumbai Indians</td>\n",
       "      <td>₹10,00,000</td>\n",
       "      <td>8</td>\n",
       "      <td>25</td>\n",
       "    </tr>\n",
       "    <tr>\n",
       "      <th>6</th>\n",
       "      <td>Punjab Kings</td>\n",
       "      <td>₹3,45,00,000</td>\n",
       "      <td>7</td>\n",
       "      <td>25</td>\n",
       "    </tr>\n",
       "    <tr>\n",
       "      <th>7</th>\n",
       "      <td>Rajasthan Royals</td>\n",
       "      <td>₹95,00,000</td>\n",
       "      <td>8</td>\n",
       "      <td>24</td>\n",
       "    </tr>\n",
       "    <tr>\n",
       "      <th>8</th>\n",
       "      <td>Royal Challengers Bangalore</td>\n",
       "      <td>₹1,55,00,000</td>\n",
       "      <td>8</td>\n",
       "      <td>22</td>\n",
       "    </tr>\n",
       "    <tr>\n",
       "      <th>9</th>\n",
       "      <td>Sunrisers Hyderabad</td>\n",
       "      <td>₹10,00,000</td>\n",
       "      <td>8</td>\n",
       "      <td>23</td>\n",
       "    </tr>\n",
       "  </tbody>\n",
       "</table>\n",
       "</div>"
      ],
      "text/plain": [
       "                          TEAM FUNDS REMAINING OVERSEAS PLAYERS TOTAL PLAYERS\n",
       "0          Chennai Super Kings    ₹2,95,00,000                8            25\n",
       "1               Delhi Capitals      ₹10,00,000                7            24\n",
       "2               Gujarat Titans      ₹15,00,000                8            23\n",
       "3        Kolkata Knight Riders      ₹45,00,000                8            25\n",
       "4         Lucknow Super Giants              ₹0                7            21\n",
       "5               Mumbai Indians      ₹10,00,000                8            25\n",
       "6                 Punjab Kings    ₹3,45,00,000                7            25\n",
       "7             Rajasthan Royals      ₹95,00,000                8            24\n",
       "8  Royal Challengers Bangalore    ₹1,55,00,000                8            22\n",
       "9          Sunrisers Hyderabad      ₹10,00,000                8            23"
      ]
     },
     "execution_count": 15,
     "metadata": {},
     "output_type": "execute_result"
    }
   ],
   "source": [
    "data\n",
    "df = pd.DataFrame(data)\n",
    "df"
   ]
  },
  {
   "cell_type": "code",
   "execution_count": 17,
   "id": "d6853df8-509c-476a-a02f-e4ba01dccf1c",
   "metadata": {},
   "outputs": [
    {
     "data": {
      "text/plain": [
       "TEAM                0\n",
       "FUNDS REMAINING     0\n",
       "OVERSEAS PLAYERS    0\n",
       "TOTAL PLAYERS       0\n",
       "dtype: int64"
      ]
     },
     "execution_count": 17,
     "metadata": {},
     "output_type": "execute_result"
    }
   ],
   "source": [
    "df.isna().sum()"
   ]
  },
  {
   "cell_type": "code",
   "execution_count": 19,
   "id": "0743084b-c639-4b1f-94f5-e5499b2e8747",
   "metadata": {},
   "outputs": [],
   "source": [
    "x = df[[\"OVERSEAS PLAYERS\"]]\n",
    "y = df[\"TOTAL PLAYERS\"]"
   ]
  },
  {
   "cell_type": "code",
   "execution_count": 21,
   "id": "93570c6a-43dc-49ec-8a48-6e5c04336f00",
   "metadata": {},
   "outputs": [],
   "source": [
    "from sklearn.model_selection import train_test_split\n",
    "x_train, x_test, y_train, y_test = train_test_split(x, y, test_size=0.2, random_state=2)"
   ]
  },
  {
   "cell_type": "code",
   "execution_count": 22,
   "id": "c17b1c92-4084-47d2-b223-2ccf1f477565",
   "metadata": {},
   "outputs": [
    {
     "name": "stdout",
     "output_type": "stream",
     "text": [
      "[-1.14285714]\n",
      "33.0\n"
     ]
    }
   ],
   "source": [
    "from sklearn.linear_model import LinearRegression\n",
    "\n",
    "lr = LinearRegression()\n",
    "lr.fit(x_train, y_train)\n",
    "y_pred = lr.predict(x_test)\n",
    "m = lr.coef_\n",
    "print(m)\n",
    "c = lr.intercept_ # Intercept\n",
    "print(c)"
   ]
  },
  {
   "cell_type": "code",
   "execution_count": 25,
   "id": "f7334943-ac61-4e16-a6e6-305f7ea18462",
   "metadata": {},
   "outputs": [
    {
     "name": "stdout",
     "output_type": "stream",
     "text": [
      "8.5\n"
     ]
    }
   ],
   "source": [
    "from sklearn.metrics import mean_squared_error\n",
    "mse = mean_squared_error(y_test, y_pred)\n",
    "print(mse)"
   ]
  },
  {
   "cell_type": "code",
   "execution_count": null,
   "id": "8bf4309b-7ea0-4e74-bbff-90aed5ba2756",
   "metadata": {},
   "outputs": [],
   "source": []
  }
 ],
 "metadata": {
  "kernelspec": {
   "display_name": "Python [conda env:base] *",
   "language": "python",
   "name": "conda-base-py"
  },
  "language_info": {
   "codemirror_mode": {
    "name": "ipython",
    "version": 3
   },
   "file_extension": ".py",
   "mimetype": "text/x-python",
   "name": "python",
   "nbconvert_exporter": "python",
   "pygments_lexer": "ipython3",
   "version": "3.12.7"
  }
 },
 "nbformat": 4,
 "nbformat_minor": 5
}
