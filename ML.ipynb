{
 "cells": [
  {
   "cell_type": "code",
   "execution_count": 26,
   "id": "9d36131e-5b96-4e69-a86e-aee5e59a2387",
   "metadata": {},
   "outputs": [],
   "source": [
    "import pandas as pd\n",
    "import numpy as np\n",
    "from sklearn.model_selection import train_test_split\n",
    "from sklearn.linear_model import LinearRegression\n",
    "from sklearn.preprocessing import PolynomialFeatures, OneHotEncoder, LabelEncoder, StandardScaler\n",
    "from sklearn.compose import ColumnTranformer\n",
    "from sklearn.neighbors import KNeighborsClassifier\n",
    "from sklearn.tree import DecisionTreeClassifier\n",
    "from sklearn.metrics import mean_squared_error, r2_score, confusion_matrix\n",
    "from sklearn.metrics import accuracy_score, precision_score, classification_report, recall_score, f1_score\n",
    "import matplotlib.pyplot as plt\n",
    "import seaborn as sns\n",
    "import math # for to save mse = math.inf"
   ]
  },
  {
   "cell_type": "code",
   "execution_count": null,
   "id": "b81231c7-8348-439c-bd5d-3bc4d5f46622",
   "metadata": {},
   "outputs": [],
   "source": [
    "# Linear Model\n",
    "x = 'features'\n",
    "y = 'target'\n",
    "XTrain, XTest, yTrain, yTest = train_test_split(x, y, test_size = 0.2, random_state = 42)\n",
    "model = LinearRegression()\n",
    "model.fit(XTrain, yTrain)\n",
    "y_predict = model.predict(XTest)\n",
    "# r2 = r2_score(yTest, y_predict) .......\n",
    "predicted_value = model.predict([[3]]) #For single X for mulitple X pass an 2-d array"
   ]
  },
  {
   "cell_type": "code",
   "execution_count": null,
   "id": "e5a9672d-285a-40a9-b508-4a125bdc77a2",
   "metadata": {},
   "outputs": [],
   "source": [
    "# Polynomial Model\n",
    "x = 'features'\n",
    "y = 'target'\n",
    "XTrain, XTest, yTrain, yTest = train_test_split(x, y, test_size = 0.2, random_state = 42)\n",
    "poly = PolynomialFeatures(degree = degree)\n",
    "model = LinearRegression()\n",
    "model.fit(poly.fit_tranform(XTrain), yTrain)\n",
    "y_predict = model.predict(poly.transform(XTest))\n",
    "mse = mean_score_error(yTest, y_predict)\n",
    "predicted = model.predict(poly.transform([[3]])) #Array or single anything"
   ]
  },
  {
   "cell_type": "code",
   "execution_count": null,
   "id": "b6d65e61-50b3-4986-b495-47f7d32fa921",
   "metadata": {},
   "outputs": [],
   "source": [
    "# KNN(K Nearest Neighbors)\n",
    "x = 'features'\n",
    "y = 'target'\n",
    "XTrain, XTest, yTrain, yTest = train_test_split(x, y, test_size=0.3, random_state = 42)\n",
    "model = KNeighborsClassifier(n_neighbors = 3)\n",
    "model.fit(XTrain, yTrain)\n",
    "y_predict = model.predict(XTest)\n",
    "confusionMatrix = confusion_matrix(y_test, y_predict)\n"
   ]
  },
  {
   "cell_type": "code",
   "execution_count": null,
   "id": "7b66bac1-0883-4461-ad6e-77a830d96dce",
   "metadata": {},
   "outputs": [],
   "source": [
    "# Decision Tress\n",
    "x = 'features'\n",
    "y = 'target'\n",
    "# IF said preprocessing need to be done foe x, y the do this \n",
    "catogory_feature = x.select_dtypes(include = 'object').columns\n",
    "numeric_feature = x.select_dtypes(exclude = 'object').columns\n",
    "catogory_transform = OneHotEncoder(handel_unkown = 'ignore')\n",
    "numeric_transform = StandarScaler()\n",
    "preprocessing = ColumnTranformer(transformers = [('num', numeric_tranform, numeric_feature), ('cat', catogory_tranform, catogory_features)])\n",
    "X_processed = preprocessing.fit_transform(x)\n",
    "label_encoder = LabelEncoder()\n",
    "y_encoded = label_encoder.fit_transform(y)\n",
    "XTrain, XTest, yTrain, yTest = train_test_split(X_processed, y_encoded, test_size = 0.4, random_state = 42)\n",
    "model = DecisionTreeClassifier(criterion = 'entropy', max_dept = 3, random_state = 42)\n",
    "model.fit(XTrain, yTrain)\n",
    "y_predict = model.predict(XTest)\n",
    "text_representation = tress.export_text(model)\n",
    "classificationReport = classification_report(yTest, y_predict)\n",
    "predicted = model.predict([[2,3,4]])\n"
   ]
  },
  {
   "cell_type": "code",
   "execution_count": 28,
   "id": "35c8e77b-bfb6-4150-aa41-6948175efded",
   "metadata": {},
   "outputs": [],
   "source": [
    "# Extra stuff we need to know \n",
    "df[\"area\"] = df[\"length\"] * df['breadth'] # Adding features to data frame \n",
    "df['Price'] = np.where(df['Price'] >= 200, 'High', np.where(df['Price'] >= 100, 'medium', 'low')\n",
    "df.info()\n",
    "df.corr(numeric_only = True)\n",
    "df['Money'] = df['Money'].fillna(df['Money'].mean())\n",
    "df = pd.get_dummies(df, colums = [], drop_first = True)\n",
    "df.drop([\"colums name\", \"multiple name\"], axis = 1)\n"
   ]
  },
  {
   "cell_type": "code",
   "execution_count": null,
   "id": "e5c245ca-250a-4344-abdb-01ccc2012320",
   "metadata": {},
   "outputs": [],
   "source": []
  }
 ],
 "metadata": {
  "kernelspec": {
   "display_name": "Python [conda env:base] *",
   "language": "python",
   "name": "conda-base-py"
  },
  "language_info": {
   "codemirror_mode": {
    "name": "ipython",
    "version": 3
   },
   "file_extension": ".py",
   "mimetype": "text/x-python",
   "name": "python",
   "nbconvert_exporter": "python",
   "pygments_lexer": "ipython3",
   "version": "3.12.7"
  }
 },
 "nbformat": 4,
 "nbformat_minor": 5
}
