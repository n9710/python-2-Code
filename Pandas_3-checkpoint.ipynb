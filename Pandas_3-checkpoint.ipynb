{
 "cells": [
  {
   "cell_type": "code",
   "execution_count": 9,
   "metadata": {},
   "outputs": [
    {
     "name": "stdout",
     "output_type": "stream",
     "text": [
      "Head:\n",
      "        ID       City        Date Season  MatchNumber  \\\n",
      "0  1312200  Ahmedabad  2022-05-29   2022        Final   \n",
      "1  1312199  Ahmedabad  2022-05-27   2022  Qualifier 2   \n",
      "2  1312198    Kolkata  2022-05-25   2022   Eliminator   \n",
      "3  1312197    Kolkata  2022-05-24   2022  Qualifier 1   \n",
      "4  1304116     Mumbai  2022-05-22   2022           70   \n",
      "\n",
      "                         Team1                 Team2  \\\n",
      "0             Rajasthan Royals        Gujarat Titans   \n",
      "1  Royal Challengers Bangalore      Rajasthan Royals   \n",
      "2  Royal Challengers Bangalore  Lucknow Super Giants   \n",
      "3             Rajasthan Royals        Gujarat Titans   \n",
      "4          Sunrisers Hyderabad          Punjab Kings   \n",
      "\n",
      "                              Venue            TossWinner TossDecision  \\\n",
      "0  Narendra Modi Stadium, Ahmedabad      Rajasthan Royals          bat   \n",
      "1  Narendra Modi Stadium, Ahmedabad      Rajasthan Royals        field   \n",
      "2             Eden Gardens, Kolkata  Lucknow Super Giants        field   \n",
      "3             Eden Gardens, Kolkata        Gujarat Titans        field   \n",
      "4          Wankhede Stadium, Mumbai   Sunrisers Hyderabad          bat   \n",
      "\n",
      "  SuperOver                  WinningTeam    WonBy  Margin method  \\\n",
      "0         N               Gujarat Titans  Wickets     7.0    NaN   \n",
      "1         N             Rajasthan Royals  Wickets     7.0    NaN   \n",
      "2         N  Royal Challengers Bangalore     Runs    14.0    NaN   \n",
      "3         N               Gujarat Titans  Wickets     7.0    NaN   \n",
      "4         N                 Punjab Kings  Wickets     5.0    NaN   \n",
      "\n",
      "  Player_of_Match                                       Team1Players  \\\n",
      "0       HH Pandya  ['YBK Jaiswal', 'JC Buttler', 'SV Samson', 'D ...   \n",
      "1      JC Buttler  ['V Kohli', 'F du Plessis', 'RM Patidar', 'GJ ...   \n",
      "2      RM Patidar  ['V Kohli', 'F du Plessis', 'RM Patidar', 'GJ ...   \n",
      "3       DA Miller  ['YBK Jaiswal', 'JC Buttler', 'SV Samson', 'D ...   \n",
      "4   Harpreet Brar  ['PK Garg', 'Abhishek Sharma', 'RA Tripathi', ...   \n",
      "\n",
      "                                        Team2Players        Umpire1  \\\n",
      "0  ['WP Saha', 'Shubman Gill', 'MS Wade', 'HH Pan...    CB Gaffaney   \n",
      "1  ['YBK Jaiswal', 'JC Buttler', 'SV Samson', 'D ...    CB Gaffaney   \n",
      "2  ['Q de Kock', 'KL Rahul', 'M Vohra', 'DJ Hooda...  J Madanagopal   \n",
      "3  ['WP Saha', 'Shubman Gill', 'MS Wade', 'HH Pan...   BNJ Oxenford   \n",
      "4  ['JM Bairstow', 'S Dhawan', 'M Shahrukh Khan',...   AK Chaudhary   \n",
      "\n",
      "         Umpire2  \n",
      "0    Nitin Menon  \n",
      "1    Nitin Menon  \n",
      "2       MA Gough  \n",
      "3      VK Sharma  \n",
      "4  NA Patwardhan  \n",
      "Describe:\n",
      "          City        Date Season MatchNumber                        Team1  \\\n",
      "count      899         950    950         950                          950   \n",
      "unique      33         706     15          80                           18   \n",
      "top     Mumbai  2016-04-16   2013          46  Royal Challengers Bangalore   \n",
      "freq       159           2     76          15                          126   \n",
      "\n",
      "                 Team2         Venue      TossWinner TossDecision SuperOver  \\\n",
      "count              950           950             950          950       946   \n",
      "unique              18            49              18            2         2   \n",
      "top     Mumbai Indians  Eden Gardens  Mumbai Indians        field         N   \n",
      "freq               119            77             123          599       932   \n",
      "\n",
      "           WinningTeam    WonBy method Player_of_Match  \\\n",
      "count              946      950     19             946   \n",
      "unique              18        4      1             262   \n",
      "top     Mumbai Indians  Wickets    D/L  AB de Villiers   \n",
      "freq               131      509     19              25   \n",
      "\n",
      "                                             Team1Players  \\\n",
      "count                                                 950   \n",
      "unique                                                932   \n",
      "top     ['AC Gilchrist', 'VVS Laxman', 'HH Gibbs', 'A ...   \n",
      "freq                                                    2   \n",
      "\n",
      "                                             Team2Players       Umpire1  \\\n",
      "count                                                 950           950   \n",
      "unique                                                937            58   \n",
      "top     ['WP Saha', 'Shubman Gill', 'MS Wade', 'HH Pan...  AK Chaudhary   \n",
      "freq                                                    2            95   \n",
      "\n",
      "       Umpire2  \n",
      "count      950  \n",
      "unique      60  \n",
      "top     S Ravi  \n",
      "freq        83  \n",
      "Sum:\n",
      "ID                   0\n",
      "City                51\n",
      "Date                 0\n",
      "Season               0\n",
      "MatchNumber          0\n",
      "Team1                0\n",
      "Team2                0\n",
      "Venue                0\n",
      "TossWinner           0\n",
      "TossDecision         0\n",
      "SuperOver            4\n",
      "WinningTeam          4\n",
      "WonBy                0\n",
      "Margin              18\n",
      "method             931\n",
      "Player_of_Match      4\n",
      "Team1Players         0\n",
      "Team2Players         0\n",
      "Umpire1              0\n",
      "Umpire2              0\n",
      "dtype: int64\n",
      "shape:\n",
      "(950, 20)\n",
      "(946, 20)\n"
     ]
    }
   ],
   "source": [
    "import pandas as pd\n",
    "import numpy as np\n",
    "df=pd.read_csv(\"ipl-matches.csv\")\n",
    "print(\"Head:\")\n",
    "print(df.head())\n",
    "print(\"Describe:\")\n",
    "print(df.describe(exclude=np.number))\n",
    "print(\"Sum:\")\n",
    "print(df.isna().sum())\n",
    "print(\"shape:\")\n",
    "print(df.shape)\n",
    "df=df.dropna(subset=[\"WinningTeam\"])\n",
    "print(df.shape)"
   ]
  },
  {
   "cell_type": "code",
   "execution_count": 19,
   "metadata": {},
   "outputs": [
    {
     "name": "stdout",
     "output_type": "stream",
     "text": [
      "['Rajasthan Royals' 'Royal Challengers Bangalore' 'Sunrisers Hyderabad'\n",
      " 'Delhi Capitals' 'Chennai Super Kings' 'Gujarat Lions'\n",
      " 'Lucknow Super Giants' 'Kolkata Knight Riders' 'Punjab Kings'\n",
      " 'Mumbai Indians' 'Panjab Kings' 'Pune Warriors' 'Rising Pune Supergiants'\n",
      " 'Deccan Chargers' 'Kochi Tuskers Kerala']\n"
     ]
    }
   ],
   "source": [
    "print(df.Team1.unique())"
   ]
  },
  {
   "cell_type": "code",
   "execution_count": 20,
   "metadata": {},
   "outputs": [
    {
     "name": "stdout",
     "output_type": "stream",
     "text": [
      "15\n"
     ]
    }
   ],
   "source": [
    "d={\"Delhi Daredevils\":\"Delhi Capitals\",\"Kings XI Punjab\":\"Panjab Kings\",\"Rising Pune Supergiant\":\"Pune Warriors\",\"Gujarat Titans\":\"Gujarat Lions\"}\n",
    "df=df.replace(d.keys(),d.values())\n",
    "print(len(df.Team1.unique()))"
   ]
  },
  {
   "cell_type": "code",
   "execution_count": 30,
   "metadata": {},
   "outputs": [
    {
     "name": "stdout",
     "output_type": "stream",
     "text": [
      "                           team  play       Win%   HomeWin%   AwayWin%\n",
      "0              Rajasthan Royals   190  50.526316  55.056180  46.534653\n",
      "1   Royal Challengers Bangalore   223  48.878924  49.593496  48.000000\n",
      "2           Sunrisers Hyderabad   152  49.342105  52.173913  46.987952\n",
      "3                Delhi Capitals   222  46.396396  46.902655  45.871560\n",
      "4           Chennai Super Kings   208  58.173077  58.558559  57.731959\n",
      "5                 Gujarat Lions    46  54.347826  39.130435  69.565217\n",
      "6          Lucknow Super Giants    15  60.000000  87.500000  28.571429\n",
      "7         Kolkata Knight Riders   223  51.121076  53.333333  49.152542\n",
      "8                  Punjab Kings    28  46.428571  38.888889  60.000000\n",
      "9                Mumbai Indians   231  56.709957  58.035714  55.462185\n",
      "10                 Panjab Kings   190  46.315789  46.739130  45.918367\n",
      "11                Pune Warriors    61  36.065574  36.666667  35.483871\n",
      "12      Rising Pune Supergiants    14  35.714286  28.571429  42.857143\n",
      "13              Deccan Chargers    75  38.666667  33.333333  44.444444\n",
      "14         Kochi Tuskers Kerala    14  42.857143  42.857143  42.857143\n"
     ]
    }
   ],
   "source": [
    "teams=df.Team1.unique()\n",
    "length=[]\n",
    "for team in teams:\n",
    "    played=df[(df.Team1==team)|(df.Team2==team)].shape[0]\n",
    "    #length.append([team,played])\n",
    "    win=df[df.WinningTeam==team].shape[0]\n",
    "    home_play=df[df.Team1==team].shape[0]\n",
    "    home_win=df[(df.WinningTeam==team) & (df.Team1==team)].shape[0]\n",
    "    away_play=df[df.Team2==team].shape[0]\n",
    "    away_win=df[(df.Team2==team)&(df.WinningTeam==team)].shape[0]\n",
    "    length.append([team,played,(win/played)*100,(home_win/home_play)*100,(away_win/away_play)*100])\n",
    "    \n",
    "new_df=pd.DataFrame(length,columns=[\"team\",\"play\",\"Win%\",\"HomeWin%\",\"AwayWin%\"])\n",
    "print(new_df)\n",
    "# print(length)"
   ]
  },
  {
   "cell_type": "code",
   "execution_count": 31,
   "metadata": {},
   "outputs": [
    {
     "name": "stdout",
     "output_type": "stream",
     "text": [
      "          ID        City        Date   Season  MatchNumber  \\\n",
      "0    1312200   Ahmedabad  2022-05-29     2022        Final   \n",
      "1    1312199   Ahmedabad  2022-05-27     2022  Qualifier 2   \n",
      "2    1312198     Kolkata  2022-05-25     2022   Eliminator   \n",
      "3    1312197     Kolkata  2022-05-24     2022  Qualifier 1   \n",
      "4    1304116      Mumbai  2022-05-22     2022           70   \n",
      "..       ...         ...         ...      ...          ...   \n",
      "945   335986     Kolkata  2008-04-20  2007/08            4   \n",
      "946   335985      Mumbai  2008-04-20  2007/08            5   \n",
      "947   335984       Delhi  2008-04-19  2007/08            3   \n",
      "948   335983  Chandigarh  2008-04-19  2007/08            2   \n",
      "949   335982   Bangalore  2008-04-18  2007/08            1   \n",
      "\n",
      "                           Team1                        Team2  \\\n",
      "0               Rajasthan Royals                Gujarat Lions   \n",
      "1    Royal Challengers Bangalore             Rajasthan Royals   \n",
      "2    Royal Challengers Bangalore         Lucknow Super Giants   \n",
      "3               Rajasthan Royals                Gujarat Lions   \n",
      "4            Sunrisers Hyderabad                 Punjab Kings   \n",
      "..                           ...                          ...   \n",
      "945        Kolkata Knight Riders              Deccan Chargers   \n",
      "946               Mumbai Indians  Royal Challengers Bangalore   \n",
      "947               Delhi Capitals             Rajasthan Royals   \n",
      "948                 Panjab Kings          Chennai Super Kings   \n",
      "949  Royal Challengers Bangalore        Kolkata Knight Riders   \n",
      "\n",
      "                                          Venue                   TossWinner  \\\n",
      "0              Narendra Modi Stadium, Ahmedabad             Rajasthan Royals   \n",
      "1              Narendra Modi Stadium, Ahmedabad             Rajasthan Royals   \n",
      "2                         Eden Gardens, Kolkata         Lucknow Super Giants   \n",
      "3                         Eden Gardens, Kolkata                Gujarat Lions   \n",
      "4                      Wankhede Stadium, Mumbai          Sunrisers Hyderabad   \n",
      "..                                          ...                          ...   \n",
      "945                                Eden Gardens              Deccan Chargers   \n",
      "946                            Wankhede Stadium               Mumbai Indians   \n",
      "947                            Feroz Shah Kotla             Rajasthan Royals   \n",
      "948  Punjab Cricket Association Stadium, Mohali          Chennai Super Kings   \n",
      "949                       M Chinnaswamy Stadium  Royal Challengers Bangalore   \n",
      "\n",
      "    TossDecision SuperOver                  WinningTeam    WonBy  Margin  \\\n",
      "0            bat         N                Gujarat Lions  Wickets     7.0   \n",
      "1          field         N             Rajasthan Royals  Wickets     7.0   \n",
      "2          field         N  Royal Challengers Bangalore     Runs    14.0   \n",
      "3          field         N                Gujarat Lions  Wickets     7.0   \n",
      "4            bat         N                 Punjab Kings  Wickets     5.0   \n",
      "..           ...       ...                          ...      ...     ...   \n",
      "945          bat         N        Kolkata Knight Riders  Wickets     5.0   \n",
      "946          bat         N  Royal Challengers Bangalore  Wickets     5.0   \n",
      "947          bat         N               Delhi Capitals  Wickets     9.0   \n",
      "948          bat         N          Chennai Super Kings     Runs    33.0   \n",
      "949        field         N        Kolkata Knight Riders     Runs   140.0   \n",
      "\n",
      "    method Player_of_Match                                       Team1Players  \\\n",
      "0      NaN       HH Pandya  ['YBK Jaiswal', 'JC Buttler', 'SV Samson', 'D ...   \n",
      "1      NaN      JC Buttler  ['V Kohli', 'F du Plessis', 'RM Patidar', 'GJ ...   \n",
      "2      NaN      RM Patidar  ['V Kohli', 'F du Plessis', 'RM Patidar', 'GJ ...   \n",
      "3      NaN       DA Miller  ['YBK Jaiswal', 'JC Buttler', 'SV Samson', 'D ...   \n",
      "4      NaN   Harpreet Brar  ['PK Garg', 'Abhishek Sharma', 'RA Tripathi', ...   \n",
      "..     ...             ...                                                ...   \n",
      "945    NaN       DJ Hussey  ['WP Saha', 'BB McCullum', 'RT Ponting', 'SC G...   \n",
      "946    NaN      MV Boucher  ['L Ronchi', 'ST Jayasuriya', 'DJ Thornely', '...   \n",
      "947    NaN     MF Maharoof  ['G Gambhir', 'V Sehwag', 'S Dhawan', 'MK Tiwa...   \n",
      "948    NaN      MEK Hussey  ['K Goel', 'JR Hopes', 'KC Sangakkara', 'Yuvra...   \n",
      "949    NaN     BB McCullum  ['R Dravid', 'W Jaffer', 'V Kohli', 'JH Kallis...   \n",
      "\n",
      "                                          Team2Players        Umpire1  \\\n",
      "0    ['WP Saha', 'Shubman Gill', 'MS Wade', 'HH Pan...    CB Gaffaney   \n",
      "1    ['YBK Jaiswal', 'JC Buttler', 'SV Samson', 'D ...    CB Gaffaney   \n",
      "2    ['Q de Kock', 'KL Rahul', 'M Vohra', 'DJ Hooda...  J Madanagopal   \n",
      "3    ['WP Saha', 'Shubman Gill', 'MS Wade', 'HH Pan...   BNJ Oxenford   \n",
      "4    ['JM Bairstow', 'S Dhawan', 'M Shahrukh Khan',...   AK Chaudhary   \n",
      "..                                                 ...            ...   \n",
      "945  ['AC Gilchrist', 'Y Venugopal Rao', 'VVS Laxma...      BF Bowden   \n",
      "946  ['S Chanderpaul', 'R Dravid', 'LRPL Taylor', '...       SJ Davis   \n",
      "947  ['T Kohli', 'YK Pathan', 'SR Watson', 'M Kaif'...      Aleem Dar   \n",
      "948  ['PA Patel', 'ML Hayden', 'MEK Hussey', 'MS Dh...      MR Benson   \n",
      "949  ['SC Ganguly', 'BB McCullum', 'RT Ponting', 'D...      Asad Rauf   \n",
      "\n",
      "            Umpire2  \n",
      "0       Nitin Menon  \n",
      "1       Nitin Menon  \n",
      "2          MA Gough  \n",
      "3         VK Sharma  \n",
      "4     NA Patwardhan  \n",
      "..              ...  \n",
      "945     K Hariharan  \n",
      "946       DJ Harper  \n",
      "947  GA Pratapkumar  \n",
      "948      SL Shastri  \n",
      "949     RE Koertzen  \n",
      "\n",
      "[946 rows x 20 columns]\n"
     ]
    }
   ],
   "source": [
    "print(df)"
   ]
  },
  {
   "cell_type": "code",
   "execution_count": 45,
   "metadata": {},
   "outputs": [
    {
     "name": "stdout",
     "output_type": "stream",
     "text": [
      "                          team  play  Win  Points\n",
      "0             Rajasthan Royals    17   10      20\n",
      "1  Royal Challengers Bangalore    16    9      18\n",
      "2          Sunrisers Hyderabad    14    6      12\n",
      "3               Delhi Capitals    14    7      14\n",
      "4          Chennai Super Kings    14    4       8\n",
      "5                Gujarat Lions    16   12      24\n",
      "6         Lucknow Super Giants    15    9      18\n",
      "7        Kolkata Knight Riders    14    6      12\n",
      "8                 Punjab Kings    14    7      14\n",
      "9               Mumbai Indians    14    4       8\n"
     ]
    }
   ],
   "source": [
    "teams2022=df[df.Season==\"2022\"]\n",
    "teams=teams2022.Team1.unique()\n",
    "length=[]\n",
    "for team in teams:\n",
    "    played=teams2022[(teams2022.Team1==team)|(teams2022.Team2==team)].shape[0]\n",
    "    win=teams2022[teams2022.WinningTeam==team].shape[0]\n",
    "    length.append([team,played,win,(win*2)])\n",
    "    \n",
    "\n",
    "    new_df=pd.DataFrame(length,columns=[\"team\",\"play\",\"Win\",\"Points\"])\n",
    "print(new_df)\n",
    "# print(length)"
   ]
  },
  {
   "cell_type": "code",
   "execution_count": 44,
   "metadata": {},
   "outputs": [
    {
     "name": "stdout",
     "output_type": "stream",
     "text": [
      "0.0\n"
     ]
    }
   ],
   "source": [
    "print(df[df.WinningTeam==\"TossWinner\"].shape[0]/df.shape[0])"
   ]
  },
  {
   "cell_type": "code",
   "execution_count": 58,
   "metadata": {},
   "outputs": [
    {
     "name": "stdout",
     "output_type": "stream",
     "text": [
      "tail : \n",
      "       ID  No_Pation Gender   AGE  Urea     Cr  HbA1c  Chol   TG  HDL  LDL  \\\n",
      "1002  188     454316      F  75.0  10.3  113.0    8.6   4.2  1.6  0.9  2.6   \n",
      "1003  189     454316      M  58.0   4.0   55.0    7.9   4.9  2.0  1.2  1.4   \n",
      "1004  191     454316      M  55.0   NaN   62.0    6.8   5.3  2.0  1.0  3.5   \n",
      "1005  192     454316      M  55.0   4.8   88.0    NaN   5.7  4.0  0.9  3.3   \n",
      "1006  193     454316      M  62.0   6.3   82.0    6.7   5.3  2.0  1.0  3.5   \n",
      "1007  194     454316      F  57.0   4.1   70.0    9.3   5.3  3.3  1.0  1.4   \n",
      "1008  195       4543      f  55.0   4.1   34.0   13.9   5.4  1.6  1.6  3.1   \n",
      "\n",
      "      VLDL   BMI CLASS  \n",
      "1002   0.7  32.0    Y   \n",
      "1003   1.1  35.0    Y   \n",
      "1004   0.9  30.1    Y   \n",
      "1005   1.8  30.0    Y   \n",
      "1006   NaN  30.1    Y   \n",
      "1007   1.3  29.0    Y   \n",
      "1008   0.7  33.0    Y   \n"
     ]
    }
   ],
   "source": [
    "df=pd.read_csv(\"diabetes_unclean.csv\")\n",
    "print(\"tail : \")\n",
    "print(df.tail(7))"
   ]
  },
  {
   "cell_type": "code",
   "execution_count": 55,
   "metadata": {},
   "outputs": [
    {
     "name": "stdout",
     "output_type": "stream",
     "text": [
      "Info : \n",
      "<class 'pandas.core.frame.DataFrame'>\n",
      "RangeIndex: 1009 entries, 0 to 1008\n",
      "Data columns (total 14 columns):\n",
      " #   Column     Non-Null Count  Dtype  \n",
      "---  ------     --------------  -----  \n",
      " 0   ID         1009 non-null   int64  \n",
      " 1   No_Pation  1009 non-null   int64  \n",
      " 2   Gender     1009 non-null   object \n",
      " 3   AGE        1008 non-null   float64\n",
      " 4   Urea       1008 non-null   float64\n",
      " 5   Cr         1007 non-null   float64\n",
      " 6   HbA1c      1006 non-null   float64\n",
      " 7   Chol       1007 non-null   float64\n",
      " 8   TG         1007 non-null   float64\n",
      " 9   HDL        1008 non-null   float64\n",
      " 10  LDL        1007 non-null   float64\n",
      " 11  VLDL       1008 non-null   float64\n",
      " 12  BMI        1009 non-null   float64\n",
      " 13  CLASS      1009 non-null   object \n",
      "dtypes: float64(10), int64(2), object(2)\n",
      "memory usage: 110.5+ KB\n",
      "None\n"
     ]
    }
   ],
   "source": [
    "print(\"Info : \")\n",
    "print(df.info())"
   ]
  },
  {
   "cell_type": "code",
   "execution_count": 56,
   "metadata": {},
   "outputs": [
    {
     "name": "stdout",
     "output_type": "stream",
     "text": [
      "Describe : \n",
      "                 ID     No_Pation Gender          AGE         Urea  \\\n",
      "count   1009.000000  1.009000e+03   1009  1008.000000  1008.000000   \n",
      "unique          NaN           NaN      3          NaN          NaN   \n",
      "top             NaN           NaN      M          NaN          NaN   \n",
      "freq            NaN           NaN    570          NaN          NaN   \n",
      "mean     339.161546  2.717448e+05    NaN    53.620040     5.131094   \n",
      "std      239.738169  3.365681e+06    NaN     8.740975     2.931136   \n",
      "min        1.000000  1.230000e+02    NaN    25.000000     0.500000   \n",
      "25%      127.000000  2.406500e+04    NaN    51.000000     3.700000   \n",
      "50%      296.000000  3.439900e+04    NaN    55.000000     4.600000   \n",
      "75%      548.000000  4.539000e+04    NaN    59.000000     5.700000   \n",
      "max      800.000000  7.543566e+07    NaN    79.000000    38.900000   \n",
      "\n",
      "                 Cr        HbA1c         Chol           TG          HDL  \\\n",
      "count   1007.000000  1006.000000  1007.000000  1007.000000  1008.000000   \n",
      "unique          NaN          NaN          NaN          NaN          NaN   \n",
      "top             NaN          NaN          NaN          NaN          NaN   \n",
      "freq            NaN          NaN          NaN          NaN          NaN   \n",
      "mean      68.973188     8.284155     4.863873     2.348769     1.204216   \n",
      "std       59.813297     2.533576     1.297326     1.397487     0.658158   \n",
      "min        6.000000     0.900000     0.000000     0.300000     0.200000   \n",
      "25%       48.000000     6.500000     4.000000     1.500000     0.900000   \n",
      "50%       60.000000     8.000000     4.800000     2.000000     1.100000   \n",
      "75%       73.000000    10.200000     5.600000     2.900000     1.300000   \n",
      "max      800.000000    16.000000    10.300000    13.800000     9.900000   \n",
      "\n",
      "                LDL         VLDL          BMI CLASS  \n",
      "count   1007.000000  1008.000000  1009.000000  1009  \n",
      "unique          NaN          NaN          NaN     5  \n",
      "top             NaN          NaN          NaN     Y  \n",
      "freq            NaN          NaN          NaN   840  \n",
      "mean       2.610119     1.850595    29.589911   NaN  \n",
      "std        1.116095     3.649859     4.946246   NaN  \n",
      "min        0.300000     0.100000    19.000000   NaN  \n",
      "25%        1.800000     0.700000    26.000000   NaN  \n",
      "50%        2.500000     0.900000    30.000000   NaN  \n",
      "75%        3.300000     1.500000    33.000000   NaN  \n",
      "max        9.900000    35.000000    47.750000   NaN  \n"
     ]
    }
   ],
   "source": [
    "print(\"Describe : \")\n",
    "print(df.describe(include=\"all\"))\n"
   ]
  },
  {
   "cell_type": "code",
   "execution_count": 57,
   "metadata": {},
   "outputs": [
    {
     "name": "stdout",
     "output_type": "stream",
     "text": [
      "Nan Values : \n",
      "ID           0\n",
      "No_Pation    0\n",
      "Gender       0\n",
      "AGE          1\n",
      "Urea         1\n",
      "Cr           2\n",
      "HbA1c        3\n",
      "Chol         2\n",
      "TG           2\n",
      "HDL          1\n",
      "LDL          2\n",
      "VLDL         1\n",
      "BMI          0\n",
      "CLASS        0\n",
      "dtype: int64\n"
     ]
    }
   ],
   "source": [
    "print(\"Nan Values : \")\n",
    "print(df.isna().sum())\n"
   ]
  },
  {
   "cell_type": "code",
   "execution_count": 63,
   "metadata": {},
   "outputs": [
    {
     "name": "stdout",
     "output_type": "stream",
     "text": [
      "0        46.0\n",
      "1        62.0\n",
      "2        46.0\n",
      "3        46.0\n",
      "4        46.0\n",
      "        ...  \n",
      "1001     60.0\n",
      "1002    113.0\n",
      "1003     55.0\n",
      "1007     70.0\n",
      "1008     34.0\n",
      "Name: Cr, Length: 997, dtype: float64\n",
      "0        46.0\n",
      "1        62.0\n",
      "2        46.0\n",
      "3        46.0\n",
      "4        46.0\n",
      "        ...  \n",
      "1001     60.0\n",
      "1002    113.0\n",
      "1003     55.0\n",
      "1007     70.0\n",
      "1008     34.0\n",
      "Name: Cr, Length: 997, dtype: float64\n"
     ]
    }
   ],
   "source": [
    "df['Cr']=df[\"Cr\"].fillna(df.Cr.median())\n",
    "print(df[\"Cr\"])"
   ]
  },
  {
   "cell_type": "code",
   "execution_count": 65,
   "metadata": {},
   "outputs": [
    {
     "name": "stdout",
     "output_type": "stream",
     "text": [
      "0       2.4\n",
      "1       1.1\n",
      "2       2.4\n",
      "3       2.4\n",
      "4       0.8\n",
      "       ... \n",
      "1001    1.4\n",
      "1002    0.9\n",
      "1003    1.2\n",
      "1007    1.0\n",
      "1008    1.6\n",
      "Name: HDL, Length: 997, dtype: float64\n",
      "0       2.4\n",
      "1       1.1\n",
      "2       2.4\n",
      "3       2.4\n",
      "4       0.8\n",
      "       ... \n",
      "1001    1.4\n",
      "1002    0.9\n",
      "1003    1.2\n",
      "1007    1.0\n",
      "1008    1.6\n",
      "Name: HDL, Length: 997, dtype: float64\n"
     ]
    }
   ],
   "source": [
    "df[\"HDL\"]=df[\"HDL\"].fillna(df.HDL.mode()[0])\n",
    "print(df[\"HDL\"])"
   ]
  },
  {
   "cell_type": "code",
   "execution_count": 62,
   "metadata": {},
   "outputs": [
    {
     "name": "stdout",
     "output_type": "stream",
     "text": [
      "       ID  No_Pation Gender   AGE  Urea     Cr  HbA1c  Chol   TG  HDL  LDL  \\\n",
      "0     502      17975      F  50.0   4.7   46.0    4.9   4.2  0.9  2.4  1.4   \n",
      "1     735      34221      M  26.0   4.5   62.0    4.9   3.7  1.4  1.1  2.1   \n",
      "2     420      47975      F  50.0   4.7   46.0    4.9   4.2  0.9  2.4  1.4   \n",
      "3     680      87656      F  50.0   4.7   46.0    4.9   4.2  0.9  2.4  1.4   \n",
      "4     504      34223      M  33.0   7.1   46.0    4.9   4.9  1.0  0.8  2.0   \n",
      "...   ...        ...    ...   ...   ...    ...    ...   ...  ...  ...  ...   \n",
      "1001  187     454316      F  60.0   5.0   60.0    8.1   5.2  3.3  1.4  0.6   \n",
      "1002  188     454316      F  75.0  10.3  113.0    8.6   4.2  1.6  0.9  2.6   \n",
      "1003  189     454316      M  58.0   4.0   55.0    7.9   4.9  2.0  1.2  1.4   \n",
      "1007  194     454316      F  57.0   4.1   70.0    9.3   5.3  3.3  1.0  1.4   \n",
      "1008  195       4543      f  55.0   4.1   34.0   13.9   5.4  1.6  1.6  3.1   \n",
      "\n",
      "      VLDL   BMI CLASS  \n",
      "0      0.5  24.0     N  \n",
      "1      0.6  23.0     N  \n",
      "2      0.5  24.0     N  \n",
      "3      0.5  24.0     N  \n",
      "4      0.4  21.0     N  \n",
      "...    ...   ...   ...  \n",
      "1001   3.0  27.0    Y   \n",
      "1002   0.7  32.0    Y   \n",
      "1003   1.1  35.0    Y   \n",
      "1007   1.3  29.0    Y   \n",
      "1008   0.7  33.0    Y   \n",
      "\n",
      "[997 rows x 14 columns]\n"
     ]
    }
   ],
   "source": [
    "df=df.dropna()\n",
    "print(df)"
   ]
  },
  {
   "cell_type": "code",
   "execution_count": 69,
   "metadata": {},
   "outputs": [
    {
     "data": {
      "text/plain": [
       "{'whiskers': [<matplotlib.lines.Line2D at 0x1c8cbeb1c40>,\n",
       "  <matplotlib.lines.Line2D at 0x1c8cbeb1fa0>],\n",
       " 'caps': [<matplotlib.lines.Line2D at 0x1c8cbec8340>,\n",
       "  <matplotlib.lines.Line2D at 0x1c8cbec86a0>],\n",
       " 'boxes': [<matplotlib.lines.Line2D at 0x1c8cbeb18e0>],\n",
       " 'medians': [<matplotlib.lines.Line2D at 0x1c8cbec8a00>],\n",
       " 'fliers': [<matplotlib.lines.Line2D at 0x1c8cbec8d60>],\n",
       " 'means': []}"
      ]
     },
     "execution_count": 69,
     "metadata": {},
     "output_type": "execute_result"
    },
    {
     "data": {
      "image/png": "[encoded data removed]",
      "text/plain": [
       "<Figure size 432x288 with 1 Axes>"
      ]
     },
     "metadata": {
      "needs_background": "light"
     },
     "output_type": "display_data"
    }
   ],
   "source": [
    "import matplotlib.pyplot as mtp \n",
    "mtp.boxplot(df['Cr'])"
   ]
  },
  {
   "cell_type": "code",
   "execution_count": 70,
   "metadata": {},
   "outputs": [
    {
     "name": "stdout",
     "output_type": "stream",
     "text": [
      "48.0\n"
     ]
    }
   ],
   "source": [
    "q1=df.Cr.quantile(0.25)\n",
    "print(q1)"
   ]
  },
  {
   "cell_type": "code",
   "execution_count": 71,
   "metadata": {},
   "outputs": [
    {
     "name": "stdout",
     "output_type": "stream",
     "text": [
      "73.0\n"
     ]
    }
   ],
   "source": [
    "q2=df.Cr.quantile(0.75)\n",
    "print(q2)"
   ]
  },
  {
   "cell_type": "code",
   "execution_count": 72,
   "metadata": {},
   "outputs": [
    {
     "name": "stdout",
     "output_type": "stream",
     "text": [
      "25.0\n"
     ]
    }
   ],
   "source": [
    "iqr=q2-q1\n",
    "print(iqr)"
   ]
  },
  {
   "cell_type": "code",
   "execution_count": null,
   "metadata": {},
   "outputs": [],
   "source": [
    "ul=q2 + (1.5)*iqr\n",
    "ll=q1 + (1.5)*iqr"
   ]
  }
 ],
 "metadata": {
  "kernelspec": {
   "display_name": "Python 3",
   "language": "python",
   "name": "python3"
  },
  "language_info": {
   "codemirror_mode": {
    "name": "ipython",
    "version": 3
   },
   "file_extension": ".py",
   "mimetype": "text/x-python",
   "name": "python",
   "nbconvert_exporter": "python",
   "pygments_lexer": "ipython3",
   "version": "3.8.5"
  }
 },
 "nbformat": 4,
 "nbformat_minor": 4
}
