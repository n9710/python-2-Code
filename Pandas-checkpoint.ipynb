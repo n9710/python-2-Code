{
 "cells": [
  {
   "cell_type": "code",
   "execution_count": 1,
   "metadata": {},
   "outputs": [
    {
     "name": "stdout",
     "output_type": "stream",
     "text": [
      "0    luffy\n",
      "1     zoro\n",
      "2    sanji\n",
      "dtype: object\n"
     ]
    }
   ],
   "source": [
    "import pandas as pd \n",
    "import numpy as np\n",
    "ds=pd.Series([\"luffy\",\"zoro\",\"sanji\"])\n",
    "print(ds)"
   ]
  },
  {
   "cell_type": "code",
   "execution_count": 6,
   "metadata": {},
   "outputs": [
    {
     "name": "stdout",
     "output_type": "stream",
     "text": [
      "python    10\n",
      "fsd        9\n",
      "coa        9\n",
      "toc        8\n",
      "dm         8\n",
      "Name: Nilesh, dtype: int64\n"
     ]
    }
   ],
   "source": [
    "feedback=[10,9,9,8,8]\n",
    "sub=[\"python\",\"fsd\",\"coa\",\"toc\",\"dm\"]\n",
    "ds=pd.Series(feedback,index=sub,name=\"Nilesh\")\n",
    "print(ds)"
   ]
  },
  {
   "cell_type": "code",
   "execution_count": 8,
   "metadata": {},
   "outputs": [
    {
     "name": "stdout",
     "output_type": "stream",
     "text": [
      "python     9\n",
      "fsd       10\n",
      "coa        6\n",
      "toc        9\n",
      "dm         9\n",
      "dtype: int64\n",
      "<class 'pandas.core.series.Series'>\n"
     ]
    }
   ],
   "source": [
    "f={'python':9,'fsd':10,'coa':6,'toc':9,'dm':9}\n",
    "ds=pd.Series(f)\n",
    "print(ds)\n",
    "print(type(ds))"
   ]
  },
  {
   "cell_type": "code",
   "execution_count": 9,
   "metadata": {},
   "outputs": [
    {
     "name": "stdout",
     "output_type": "stream",
     "text": [
      "   Roll\n",
      "0     1\n",
      "1     2\n",
      "2     3\n",
      "3     4\n",
      "4     5\n",
      "5     6\n",
      "6     7\n",
      "7     8\n",
      "8     9\n",
      "9    10\n"
     ]
    }
   ],
   "source": [
    "ds=pd.read_csv('t1.csv')\n",
    "print(ds)"
   ]
  },
  {
   "cell_type": "code",
   "execution_count": 14,
   "metadata": {},
   "outputs": [
    {
     "name": "stdout",
     "output_type": "stream",
     "text": [
      "   python  fsd  toc\n",
      "a       1    2    3\n",
      "b       4    5    6\n",
      "c       7    8    9\n"
     ]
    }
   ],
   "source": [
    "l=np.arange(1,10).reshape(3,3)\n",
    "df=pd.DataFrame(l,index=['a','b','c'],columns=['python','fsd','toc'])\n",
    "print(df)"
   ]
  },
  {
   "cell_type": "code",
   "execution_count": 16,
   "metadata": {},
   "outputs": [
    {
     "name": "stdout",
     "output_type": "stream",
     "text": [
      "   python  fsd  toc\n",
      "a       1    4    7\n",
      "b       2    5    8\n",
      "c       3    6    9\n"
     ]
    }
   ],
   "source": [
    "l={'python':[1,2,3],'fsd':[4,5,6],'toc':[7,8,9]}\n",
    "df=pd.DataFrame(l,index=['a','b','c'])\n",
    "print(df)"
   ]
  },
  {
   "cell_type": "code",
   "execution_count": 45,
   "metadata": {},
   "outputs": [
    {
     "name": "stdout",
     "output_type": "stream",
     "text": [
      "   Roll  python  fsd Remarks\n",
      "0     1      10    9       a\n",
      "1     2      10    9       b\n",
      "2     3       8    9       a\n",
      "3     4      10    9       b\n",
      "4     5      10   10       c\n",
      "5     6      10    8       a\n",
      "6     7       9    8       a\n",
      "7     8      10   10       a\n",
      "8     9       9   10       c\n",
      "9    10      10    8       a\n"
     ]
    }
   ],
   "source": [
    "df=pd.read_csv('t2.csv')\n",
    "print(df)"
   ]
  },
  {
   "cell_type": "code",
   "execution_count": 46,
   "metadata": {},
   "outputs": [
    {
     "name": "stdout",
     "output_type": "stream",
     "text": [
      "      python  fsd Remarks\n",
      "Roll                     \n",
      "1         10    9       a\n",
      "2         10    9       b\n",
      "3          8    9       a\n",
      "4         10    9       b\n",
      "5         10   10       c\n",
      "6         10    8       a\n",
      "7          9    8       a\n",
      "8         10   10       a\n",
      "9          9   10       c\n",
      "10        10    8       a\n"
     ]
    }
   ],
   "source": [
    "df=df.set_index('Roll')\n",
    "print(df)"
   ]
  },
  {
   "cell_type": "code",
   "execution_count": 47,
   "metadata": {},
   "outputs": [
    {
     "name": "stdout",
     "output_type": "stream",
     "text": [
      "python      int64\n",
      "fsd         int64\n",
      "Remarks    object\n",
      "dtype: object\n",
      "Int64Index([1, 2, 3, 4, 5, 6, 7, 8, 9, 10], dtype='int64', name='Roll')\n",
      "Index(['python', 'fsd', 'Remarks'], dtype='object')\n",
      "[Int64Index([1, 2, 3, 4, 5, 6, 7, 8, 9, 10], dtype='int64', name='Roll'), Index(['python', 'fsd', 'Remarks'], dtype='object')]\n",
      "[[10 9 'a']\n",
      " [10 9 'b']\n",
      " [8 9 'a']\n",
      " [10 9 'b']\n",
      " [10 10 'c']\n",
      " [10 8 'a']\n",
      " [9 8 'a']\n",
      " [10 10 'a']\n",
      " [9 10 'c']\n",
      " [10 8 'a']]\n",
      "(10, 3)\n"
     ]
    }
   ],
   "source": [
    "print(df.dtypes)\n",
    "print(df.index)\n",
    "print(df.columns)\n",
    "print(df.axes)\n",
    "print(df.values)\n",
    "print(df.shape)"
   ]
  },
  {
   "cell_type": "code",
   "execution_count": null,
   "metadata": {},
   "outputs": [],
   "source": []
  }
 ],
 "metadata": {
  "kernelspec": {
   "display_name": "Python 3",
   "language": "python",
   "name": "python3"
  },
  "language_info": {
   "codemirror_mode": {
    "name": "ipython",
    "version": 3
   },
   "file_extension": ".py",
   "mimetype": "text/x-python",
   "name": "python",
   "nbconvert_exporter": "python",
   "pygments_lexer": "ipython3",
   "version": "3.8.5"
  }
 },
 "nbformat": 4,
 "nbformat_minor": 4
}
